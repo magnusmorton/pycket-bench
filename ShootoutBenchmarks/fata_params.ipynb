{
 "cells": [
  {
   "cell_type": "code",
   "execution_count": 5,
   "metadata": {
    "collapsed": false,
    "deletable": true,
    "editable": true
   },
   "outputs": [],
   "source": [
    "import numpy as np\n",
    "import scipy.optimize as spopt\n",
    "import re\n",
    "from random import randint"
   ]
  },
  {
   "cell_type": "code",
   "execution_count": 6,
   "metadata": {
    "collapsed": false,
    "deletable": true,
    "editable": true
   },
   "outputs": [],
   "source": [
    "cpu_regex = re.compile(r\"^RESULT-cpu: (.*)$\")\n",
    "eqns_regex = re.compile(r\"^eqns: (.*)$\")"
   ]
  },
  {
   "cell_type": "code",
   "execution_count": 11,
   "metadata": {
    "collapsed": false,
    "deletable": true,
    "editable": true
   },
   "outputs": [
    {
     "data": {
      "text/plain": [
       "84"
      ]
     },
     "execution_count": 11,
     "metadata": {},
     "output_type": "execute_result"
    }
   ],
   "source": [
    "times = []\n",
    "eqns = []\n",
    "with open(\"results_gpg.dat\",'r') as f:\n",
    "    for l in f:\n",
    "        cpu_match = cpu_regex.match(l)\n",
    "        eqns_match = eqns_regex.match(l)\n",
    "        if cpu_match:\n",
    "            times.append(float(cpu_match.group(1)))\n",
    "        elif eqns_regex.match(l):\n",
    "            eqns.append(np.array([float(item) for item in eqns_match.group(1).split(\",\")]))\n",
    "        \n",
    "eq_arr = np.array(eqns)\n",
    "time_arr = np.array(times)\n",
    "eq_arr.shape\n",
    "#time_arr.shape\n",
    "time_arr.size\n",
    "#eq_arr.size"
   ]
  },
  {
   "cell_type": "code",
   "execution_count": 12,
   "metadata": {
    "collapsed": false,
    "deletable": true,
    "editable": true
   },
   "outputs": [
    {
     "data": {
      "text/plain": [
       "(array([ 0.00019148,  0.00045556,  0.        ,  0.00055118,  0.0002794 ,  0.        ]),\n",
       " 70202293.69243)"
      ]
     },
     "execution_count": 12,
     "metadata": {},
     "output_type": "execute_result"
    }
   ],
   "source": [
    "spopt.nnls(eq_arr, np.transpose(time_arr))"
   ]
  },
  {
   "cell_type": "code",
   "execution_count": 13,
   "metadata": {
    "collapsed": false,
    "deletable": true,
    "editable": true
   },
   "outputs": [
    {
     "data": {
      "text/plain": [
       "(array([ 0.00019148,  0.00045556,  0.        ,  0.00055118,  0.0002794 ]),\n",
       " 70202293.69243)"
      ]
     },
     "execution_count": 13,
     "metadata": {},
     "output_type": "execute_result"
    }
   ],
   "source": [
    "spopt.nnls(np.delete(eq_arr, 5, 1), np.transpose(time_arr))"
   ]
  },
  {
   "cell_type": "code",
   "execution_count": 20,
   "metadata": {
    "collapsed": false,
    "deletable": true,
    "editable": true
   },
   "outputs": [
    {
     "data": {
      "text/plain": [
       "[11,\n",
       " 52,\n",
       " 65,\n",
       " 17,\n",
       " 58,\n",
       " 24,\n",
       " 21,\n",
       " 24,\n",
       " 38,\n",
       " 0,\n",
       " 27,\n",
       " 25,\n",
       " 27,\n",
       " 81,\n",
       " 78,\n",
       " 64,\n",
       " 50,\n",
       " 67,\n",
       " 73,\n",
       " 1,\n",
       " 4,\n",
       " 5,\n",
       " 56,\n",
       " 6,\n",
       " 35,\n",
       " 16,\n",
       " 50,\n",
       " 65,\n",
       " 79,\n",
       " 5,\n",
       " 55,\n",
       " 66,\n",
       " 23,\n",
       " 20,\n",
       " 28,\n",
       " 0,\n",
       " 68,\n",
       " 83,\n",
       " 60,\n",
       " 26]"
      ]
     },
     "execution_count": 20,
     "metadata": {},
     "output_type": "execute_result"
    }
   ],
   "source": [
    "rarr = [randint(0,time_arr.size -1) for _ in range(40)]\n",
    "rarr"
   ]
  },
  {
   "cell_type": "code",
   "execution_count": 21,
   "metadata": {
    "collapsed": false,
    "deletable": true,
    "editable": true
   },
   "outputs": [
    {
     "data": {
      "text/plain": [
       "(array([  2.36054760e-03,   5.56974616e-04,   2.36252221e-04,\n",
       "          7.44498620e-05,   1.44651958e-04]), 60949144.22250348)"
      ]
     },
     "execution_count": 21,
     "metadata": {},
     "output_type": "execute_result"
    }
   ],
   "source": [
    "subset_e  = np.delete(eq_arr, rarr, 0)\n",
    "subset_times = np.delete(time_arr, rarr, 0)\n",
    "\n",
    "spopt.nnls(np.delete(subset_e, 5, 1), np.transpose(subset_times))"
   ]
  }
 ],
 "metadata": {
  "kernelspec": {
   "display_name": "Python 3",
   "language": "python",
   "name": "python3"
  },
  "language_info": {
   "codemirror_mode": {
    "name": "ipython",
    "version": 3
   },
   "file_extension": ".py",
   "mimetype": "text/x-python",
   "name": "python",
   "nbconvert_exporter": "python",
   "pygments_lexer": "ipython3",
   "version": "3.6.0"
  }
 },
 "nbformat": 4,
 "nbformat_minor": 2
}
