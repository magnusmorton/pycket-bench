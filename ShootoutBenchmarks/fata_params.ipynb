{
 "cells": [
  {
   "cell_type": "code",
   "execution_count": 3,
   "metadata": {
    "collapsed": false,
    "deletable": true,
    "editable": true
   },
   "outputs": [],
   "source": [
    "import numpy as np\n",
    "import scipy.optimize as spopt\n",
    "import re"
   ]
  },
  {
   "cell_type": "code",
   "execution_count": 4,
   "metadata": {
    "collapsed": false,
    "deletable": true,
    "editable": true
   },
   "outputs": [],
   "source": [
    "cpu_regex = re.compile(r\"^RESULT-cpu: (.*)$\")\n",
    "eqns_regex = re.compile(r\"^eqns: (.*)$\")"
   ]
  },
  {
   "cell_type": "code",
   "execution_count": 32,
   "metadata": {
    "collapsed": false,
    "deletable": true,
    "editable": true
   },
   "outputs": [
    {
     "data": {
      "text/plain": [
       "array([  1059310.,   1073664.,   1056405.,   5581522.,   5477139.,\n",
       "         5478820.,   2703046.,   2709509.,   2661789.,   4941879.,\n",
       "         4948946.,   4967496.,   5475094.,   5533312.,   5453804.,\n",
       "         3412978.,   3225581.,   3223278.,   1051571.,   1054508.,\n",
       "         1051151.,   4282429.,   4266057.,   4188156.,   4305697.,\n",
       "         4311935.,   4305486.,   3635246.,   3623923.,   3689039.,\n",
       "         1275067.,   1258049.,   1274537.,   4131770.,   4182068.,\n",
       "         4110768.,   1147066.,   1146418.,   1123650.,   6871261.,\n",
       "         6839774.,   6838941.,   2221798.,   2248347.,   2226689.,\n",
       "         4174103.,   4175047.,   4174018.,   3896003.,   3713441.,\n",
       "         3768789.,  21797041.,  21614840.,  21738040.,  12308998.,\n",
       "        12262418.,  12261372.,   2795317.,   2775756.,   2833213.,\n",
       "          913117.,    938958.,    918944.,   1152332.,   1327514.,\n",
       "         1141944.,   2847309.,   2836380.,   2831153.,   1255886.,\n",
       "         1255963.,   1255927.,  21619867.,  21174627.,  21827831.,\n",
       "         3708454.,   3606129.,   3607446.,   3828527.,   3849698.,\n",
       "         3886466.])"
      ]
     },
     "execution_count": 32,
     "metadata": {},
     "output_type": "execute_result"
    }
   ],
   "source": [
    "times = []\n",
    "eqns = []\n",
    "with open(\"results.dat\",'r') as f:\n",
    "    for l in f:\n",
    "        cpu_match = cpu_regex.match(l)\n",
    "        eqns_match = eqns_regex.match(l)\n",
    "        if cpu_match:\n",
    "            times.append(float(cpu_match.group(1)))\n",
    "        elif eqns_regex.match(l):\n",
    "            eqns.append(np.array([float(item) for item in eqns_match.group(1).split(\",\")]))\n",
    "        \n",
    "eq_arr = np.array(eqns)\n",
    "time_arr = np.array(times)\n",
    "eq_arr.shape\n",
    "#time_arr.shape\n",
    "time_arr\n"
   ]
  },
  {
   "cell_type": "code",
   "execution_count": 30,
   "metadata": {
    "collapsed": false
   },
   "outputs": [
    {
     "data": {
      "text/plain": [
       "(array([ 0.        ,  0.00029613,  0.        ,  0.00032465,  0.00034146,  0.        ]),\n",
       " 57722069.99237152)"
      ]
     },
     "execution_count": 30,
     "metadata": {},
     "output_type": "execute_result"
    }
   ],
   "source": [
    "spopt.nnls(eq_arr, np.transpose(time_arr))"
   ]
  },
  {
   "cell_type": "code",
   "execution_count": 31,
   "metadata": {
    "collapsed": false
   },
   "outputs": [
    {
     "data": {
      "text/plain": [
       "(array([ 0.        ,  0.00029613,  0.        ,  0.00032465,  0.00034146]),\n",
       " 57722069.99237152)"
      ]
     },
     "execution_count": 31,
     "metadata": {},
     "output_type": "execute_result"
    }
   ],
   "source": [
    "spopt.nnls(np.delete(eq_arr, 5, 1), np.transpose(time_arr))"
   ]
  }
 ],
 "metadata": {
  "kernelspec": {
   "display_name": "Python 3",
   "language": "python",
   "name": "python3"
  },
  "language_info": {
   "codemirror_mode": {
    "name": "ipython",
    "version": 3
   },
   "file_extension": ".py",
   "mimetype": "text/x-python",
   "name": "python",
   "nbconvert_exporter": "python",
   "pygments_lexer": "ipython3",
   "version": "3.6.0"
  }
 },
 "nbformat": 4,
 "nbformat_minor": 2
}
