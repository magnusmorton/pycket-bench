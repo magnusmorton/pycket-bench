{
 "cells": [
  {
   "cell_type": "code",
   "execution_count": 1,
   "metadata": {
    "collapsed": false,
    "deletable": true,
    "editable": true
   },
   "outputs": [],
   "source": [
    "import numpy as np\n",
    "import scipy.optimize as spopt\n",
    "import re\n",
    "from random import randint"
   ]
  },
  {
   "cell_type": "code",
   "execution_count": 2,
   "metadata": {
    "collapsed": false,
    "deletable": true,
    "editable": true
   },
   "outputs": [],
   "source": [
    "cpu_regex = re.compile(r\"^RESULT-cpu: (.*)$\")\n",
    "eqns_regex = re.compile(r\"^eqns: (.*)$\")"
   ]
  },
  {
   "cell_type": "code",
   "execution_count": 3,
   "metadata": {
    "collapsed": false,
    "deletable": true,
    "editable": true
   },
   "outputs": [
    {
     "data": {
      "text/plain": [
       "486"
      ]
     },
     "execution_count": 3,
     "metadata": {},
     "output_type": "execute_result"
    }
   ],
   "source": [
    "times = []\n",
    "eqns = []\n",
    "with open(\"results.dat\",'r') as f:\n",
    "    for l in f:\n",
    "        cpu_match = cpu_regex.match(l)\n",
    "        eqns_match = eqns_regex.match(l)\n",
    "        if cpu_match:\n",
    "            times.append(float(cpu_match.group(1)))\n",
    "        elif eqns_regex.match(l):\n",
    "            eqns.append(np.array([float(item) for item in eqns_match.group(1).split(\",\")]))\n",
    "        \n",
    "eq_arr = np.array(eqns)\n",
    "time_arr = np.array(times)\n",
    "eq_arr.shape\n",
    "#time_arr.shape\n",
    "time_arr.size\n",
    "eq_arr.size"
   ]
  },
  {
   "cell_type": "code",
   "execution_count": 4,
   "metadata": {
    "collapsed": false,
    "deletable": true,
    "editable": true
   },
   "outputs": [
    {
     "data": {
      "text/plain": [
       "(array([ 0.        ,  0.00029613,  0.        ,  0.00032465,  0.00034146,  0.        ]),\n",
       " 57722069.99237152)"
      ]
     },
     "execution_count": 4,
     "metadata": {},
     "output_type": "execute_result"
    }
   ],
   "source": [
    "spopt.nnls(eq_arr, np.transpose(time_arr))"
   ]
  },
  {
   "cell_type": "code",
   "execution_count": 6,
   "metadata": {
    "collapsed": false,
    "deletable": true,
    "editable": true
   },
   "outputs": [
    {
     "data": {
      "text/plain": [
       "(array([ 0.        ,  0.00029613,  0.        ,  0.00032465,  0.00034146]),\n",
       " 57722069.99237152)"
      ]
     },
     "execution_count": 6,
     "metadata": {},
     "output_type": "execute_result"
    }
   ],
   "source": [
    "spopt.nnls(np.delete(eq_arr, 5, 1), np.transpose(time_arr))"
   ]
  },
  {
   "cell_type": "code",
   "execution_count": 5,
   "metadata": {
    "collapsed": false,
    "deletable": true,
    "editable": true
   },
   "outputs": [
    {
     "data": {
      "text/plain": [
       "[23,\n",
       " 15,\n",
       " 53,\n",
       " 50,\n",
       " 60,\n",
       " 0,\n",
       " 56,\n",
       " 17,\n",
       " 40,\n",
       " 52,\n",
       " 57,\n",
       " 47,\n",
       " 59,\n",
       " 75,\n",
       " 78,\n",
       " 23,\n",
       " 71,\n",
       " 65,\n",
       " 13,\n",
       " 74,\n",
       " 6,\n",
       " 30,\n",
       " 78,\n",
       " 65,\n",
       " 0,\n",
       " 65,\n",
       " 64,\n",
       " 28,\n",
       " 47,\n",
       " 57,\n",
       " 44,\n",
       " 47,\n",
       " 22,\n",
       " 78,\n",
       " 43,\n",
       " 2,\n",
       " 36,\n",
       " 48,\n",
       " 30,\n",
       " 6]"
      ]
     },
     "execution_count": 5,
     "metadata": {},
     "output_type": "execute_result"
    }
   ],
   "source": [
    "rarr = [randint(0,time_arr.size -1) for _ in range(40)]\n",
    "rarr"
   ]
  },
  {
   "cell_type": "code",
   "execution_count": 8,
   "metadata": {
    "collapsed": false,
    "deletable": true,
    "editable": true
   },
   "outputs": [
    {
     "data": {
      "text/plain": [
       "(array([ 0.        ,  0.00029873,  0.0001574 ,  0.00041218,  0.00029189]),\n",
       " 41787111.2273011)"
      ]
     },
     "execution_count": 8,
     "metadata": {},
     "output_type": "execute_result"
    }
   ],
   "source": [
    "subset_e  = np.delete(eq_arr, rarr, 0)\n",
    "subset_times = np.delete(time_arr, rarr, 0)\n",
    "\n",
    "spopt.nnls(np.delete(subset_e, 5, 1), np.transpose(subset_times))"
   ]
  }
 ],
 "metadata": {
  "kernelspec": {
   "display_name": "Python 3",
   "language": "python",
   "name": "python3"
  },
  "language_info": {
   "codemirror_mode": {
    "name": "ipython",
    "version": 3
   },
   "file_extension": ".py",
   "mimetype": "text/x-python",
   "name": "python",
   "nbconvert_exporter": "python",
   "pygments_lexer": "ipython3",
   "version": "3.6.0"
  }
 },
 "nbformat": 4,
 "nbformat_minor": 2
}
